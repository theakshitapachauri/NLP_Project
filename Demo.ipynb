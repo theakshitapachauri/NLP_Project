{
 "cells": [
  {
   "cell_type": "code",
   "execution_count": null,
   "metadata": {},
   "outputs": [],
   "source": [
    "import gradio as gr\n",
    "from transformers import AutoTokenizer, AutoModelForSeq2SeqLM\n",
    "\n",
    "tokenizer = AutoTokenizer.from_pretrained(\"path to trained tokenizer\")\n",
    "\n",
    "model = AutoModelForSeq2SeqLM.from_pretrained(\"path to output dir\")\n",
    "model.eval();\n",
    "\n",
    "def Demo(query):\n",
    "    input_ids = tokenizer.encode(f\"translate English to SQL: {query}\", return_tensors=\"pt\")\n",
    "    outputs = model.generate(input_ids, max_length=1024)\n",
    "    sql = tokenizer.decode(outputs[0], skip_special_tokens=True)\n",
    "    return sql\n",
    "\n",
    "iface = gr.Interface(\n",
    "    fn=Demo, \n",
    "    inputs=\"text\", \n",
    "    outputs=\"text\")\n",
    "iface.launch(share= True)"
   ]
  }
 ],
 "metadata": {
  "language_info": {
   "name": "python"
  },
  "orig_nbformat": 4
 },
 "nbformat": 4,
 "nbformat_minor": 2
}
